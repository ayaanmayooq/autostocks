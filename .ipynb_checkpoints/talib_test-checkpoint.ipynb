{
 "cells": [
  {
   "cell_type": "markdown",
   "id": "908778f7",
   "metadata": {},
   "source": [
    "## TA-Lib library for techincal analysis"
   ]
  },
  {
   "cell_type": "code",
   "execution_count": 1,
   "id": "10ce60d2",
   "metadata": {},
   "outputs": [],
   "source": [
    "import talib"
   ]
  },
  {
   "cell_type": "markdown",
   "id": "fbad91bd",
   "metadata": {},
   "source": [
    "## YFinance for live stock data"
   ]
  },
  {
   "cell_type": "code",
   "execution_count": 2,
   "id": "92b3b3bf",
   "metadata": {},
   "outputs": [],
   "source": [
    "import yfinance"
   ]
  },
  {
   "cell_type": "code",
   "execution_count": null,
   "id": "f40bcb7f",
   "metadata": {},
   "outputs": [],
   "source": []
  },
  {
   "cell_type": "code",
   "execution_count": 5,
   "id": "40001b6a",
   "metadata": {},
   "outputs": [],
   "source": [
    "import robin_stocks.robinhood as rh"
   ]
  },
  {
   "cell_type": "code",
   "execution_count": 6,
   "id": "69c3e4cf",
   "metadata": {},
   "outputs": [
    {
     "ename": "AttributeError",
     "evalue": "module 'robin_stocks' has no attribute 'stocks'",
     "output_type": "error",
     "traceback": [
      "\u001b[1;31m---------------------------------------------------------------------------\u001b[0m",
      "\u001b[1;31mAttributeError\u001b[0m                            Traceback (most recent call last)",
      "\u001b[1;32m~\\AppData\\Local\\Temp/ipykernel_33608/4212657985.py\u001b[0m in \u001b[0;36m<module>\u001b[1;34m\u001b[0m\n\u001b[1;32m----> 1\u001b[1;33m \u001b[0mrh\u001b[0m\u001b[1;33m.\u001b[0m\u001b[0mstocks\u001b[0m\u001b[1;33m.\u001b[0m\u001b[0mget_latest_price\u001b[0m\u001b[1;33m(\u001b[0m\u001b[1;34m'GOOGL'\u001b[0m\u001b[1;33m)\u001b[0m\u001b[1;33m\u001b[0m\u001b[1;33m\u001b[0m\u001b[0m\n\u001b[0m",
      "\u001b[1;31mAttributeError\u001b[0m: module 'robin_stocks' has no attribute 'stocks'"
     ]
    }
   ],
   "source": [
    "rh.stocks.get_latest_price('GOOGL')"
   ]
  },
  {
   "cell_type": "code",
   "execution_count": null,
   "id": "4c04bb12",
   "metadata": {},
   "outputs": [],
   "source": []
  }
 ],
 "metadata": {
  "kernelspec": {
   "display_name": "Python 3 (ipykernel)",
   "language": "python",
   "name": "python3"
  },
  "language_info": {
   "codemirror_mode": {
    "name": "ipython",
    "version": 3
   },
   "file_extension": ".py",
   "mimetype": "text/x-python",
   "name": "python",
   "nbconvert_exporter": "python",
   "pygments_lexer": "ipython3",
   "version": "3.9.7"
  }
 },
 "nbformat": 4,
 "nbformat_minor": 5
}
